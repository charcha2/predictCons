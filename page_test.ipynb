{
 "cells": [
  {
   "cell_type": "code",
   "execution_count": 1,
   "id": "b97f292f",
   "metadata": {},
   "outputs": [],
   "source": [
    "import pandas as pd\n",
    "import joblib\n",
    "\n"
   ]
  },
  {
   "cell_type": "code",
   "execution_count": 2,
   "id": "62b2860d",
   "metadata": {},
   "outputs": [],
   "source": [
    "model=joblib.load('modelecons.pkl')"
   ]
  },
  {
   "cell_type": "code",
   "execution_count": 6,
   "id": "72ab9aec",
   "metadata": {},
   "outputs": [],
   "source": [
    "test=[[1,15,2]]"
   ]
  },
  {
   "cell_type": "code",
   "execution_count": 7,
   "id": "04e32e83",
   "metadata": {},
   "outputs": [],
   "source": [
    "y_predict=model.predict(test)"
   ]
  },
  {
   "cell_type": "code",
   "execution_count": 8,
   "id": "63511669",
   "metadata": {},
   "outputs": [
    {
     "data": {
      "text/plain": [
       "array([61.00428052])"
      ]
     },
     "execution_count": 8,
     "metadata": {},
     "output_type": "execute_result"
    }
   ],
   "source": [
    "y_predict"
   ]
  },
  {
   "cell_type": "code",
   "execution_count": null,
   "id": "9ba6ab96",
   "metadata": {},
   "outputs": [],
   "source": []
  }
 ],
 "metadata": {
  "kernelspec": {
   "display_name": "Python 3 (ipykernel)",
   "language": "python",
   "name": "python3"
  },
  "language_info": {
   "codemirror_mode": {
    "name": "ipython",
    "version": 3
   },
   "file_extension": ".py",
   "mimetype": "text/x-python",
   "name": "python",
   "nbconvert_exporter": "python",
   "pygments_lexer": "ipython3",
   "version": "3.9.7"
  }
 },
 "nbformat": 4,
 "nbformat_minor": 5
}
